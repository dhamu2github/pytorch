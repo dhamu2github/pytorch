{
 "cells": [
  {
   "cell_type": "markdown",
   "metadata": {},
   "source": [
    "There are two setup options. One is easier than the other but the other offers more options in the long-run.\n",
    "\n",
    "1. Use Google Colab (easiest)\n",
    "2. Setup on your own local/remote machine (a few steps but you've got a bit more flexibility here)\n",
    "\n",
    "Note: Neither of these are replacements for [PyTorch's official setup](https://pytorch.org/get-started/locally/) docs, if you're wanting to start coding PyTorch for the long term, you should get familiar with those.\n",
    "\n",
    "For more details go to this url https://github.com/mrdbourke/pytorch-deep-learning/blob/main/SETUP.md"
   ]
  },
  {
   "cell_type": "markdown",
   "metadata": {},
   "source": [
    "In general following basic imports are must to work on pytorch projects"
   ]
  },
  {
   "cell_type": "code",
   "execution_count": 24,
   "metadata": {},
   "outputs": [],
   "source": [
    "import pandas as pd\n",
    "import numpy as np\n",
    "import torch\n",
    "import sklearn\n",
    "import matplotlib\n",
    "import torchinfo, torchmetrics\n",
    "\n"
   ]
  },
  {
   "cell_type": "markdown",
   "metadata": {},
   "source": [
    "Here is the sample code to generate random tensors"
   ]
  },
  {
   "cell_type": "code",
   "execution_count": 25,
   "metadata": {},
   "outputs": [
    {
     "name": "stdout",
     "output_type": "stream",
     "text": [
      "tensor([[-1.0312, -0.5843, -0.5545],\n",
      "        [ 2.1451,  0.6021,  0.4344],\n",
      "        [-0.5858, -0.3207,  0.4391]])\n"
     ]
    }
   ],
   "source": [
    "print(torch.randn(3, 3))"
   ]
  },
  {
   "cell_type": "markdown",
   "metadata": {},
   "source": [
    "Note: If no GPU is available, the following code cammand will raise an error\n",
    "\n",
    "torch.cuda.current_device()\n",
    "\n",
    "RuntimeError: Found no NVIDIA driver on your system. Please check that you have an NVIDIA GPU and installed a driver from http://www.nvidia.com/Download/index.aspx"
   ]
  },
  {
   "cell_type": "code",
   "execution_count": null,
   "metadata": {},
   "outputs": [],
   "source": [
    "torch.cuda.current_device()"
   ]
  }
 ],
 "metadata": {
  "kernelspec": {
   "display_name": "py311",
   "language": "python",
   "name": "python3"
  },
  "language_info": {
   "codemirror_mode": {
    "name": "ipython",
    "version": 3
   },
   "file_extension": ".py",
   "mimetype": "text/x-python",
   "name": "python",
   "nbconvert_exporter": "python",
   "pygments_lexer": "ipython3",
   "version": "3.11.8"
  }
 },
 "nbformat": 4,
 "nbformat_minor": 2
}

{
 "cells": [
  {
   "cell_type": "markdown",
   "metadata": {},
   "source": [
    "Tensors are main building blocks of Machine Learning.\n",
    "\n",
    "Pytorch tensor are created using torch.tensor() , you can refer this https://pytorch.org/docs/stable/tensors.html#id9 document for more details. This site represent with picture https://www.linkedin.com/pulse/machine-learning-basics-scalars-vectors-matrices-tensors-prasad/"
   ]
  },
  {
   "cell_type": "code",
   "execution_count": null,
   "metadata": {},
   "outputs": [],
   "source": [
    "import torch\n",
    "import pandas as pd\n",
    "import numpy as np\n",
    "import sklearn\n",
    "import matplotlib.pyplot as plt\n",
    "import torchinfo,torchmetrics\n"
   ]
  },
  {
   "cell_type": "code",
   "execution_count": 265,
   "metadata": {},
   "outputs": [
    {
     "name": "stdout",
     "output_type": "stream",
     "text": [
      "tensor([10])\n",
      "10\n",
      "1\n",
      "torch.Size([1])\n"
     ]
    }
   ],
   "source": [
    "SCALAR = torch.tensor([10])\n",
    "print(SCALAR) # just print the tensor\n",
    "print(SCALAR.item()) # print the value of the tensor\n",
    "print(SCALAR.ndim) # print the number of dimensions\n",
    "print(SCALAR.size()) # print the size of the tensor\n",
    "\n"
   ]
  },
  {
   "cell_type": "code",
   "execution_count": 267,
   "metadata": {},
   "outputs": [
    {
     "name": "stdout",
     "output_type": "stream",
     "text": [
      "tensor([10, 20, 30, 40])\n",
      "1\n",
      "torch.Size([4])\n",
      "torch.Size([4])\n",
      "tensor([30, 40])\n"
     ]
    }
   ],
   "source": [
    "VECTOR = torch.tensor([10,20,30,40])\n",
    "print(VECTOR) # just print the tensor\n",
    "#print(vector.item()) # print the value of the tensor\n",
    "print(VECTOR.ndim) # print the number of dimensions\n",
    "print(VECTOR.size()) # print the size of the tensor\n",
    "print(VECTOR.shape) # print the size of the tensor\n",
    "print(VECTOR[2:]) # print the first element of the tensor\n"
   ]
  },
  {
   "cell_type": "code",
   "execution_count": 268,
   "metadata": {},
   "outputs": [
    {
     "name": "stdout",
     "output_type": "stream",
     "text": [
      "tensor([[ 7, 10],\n",
      "        [ 4,  3],\n",
      "        [ 5,  1]])\n",
      "2\n",
      "torch.Size([3, 2])\n",
      "torch.Size([3, 2])\n",
      "tensor([[5, 1]])\n",
      "tensor(1)\n"
     ]
    }
   ],
   "source": [
    "MATRIX = torch.tensor([[7,10],[4,3],[5,1]])\n",
    "print(MATRIX) # just print the tensor\n",
    "#print(matrix.item()) # print the value of the tensor\n",
    "print(MATRIX.ndim) # print the number of dimensions\n",
    "print(MATRIX.size()) # print the size of the tensor\n",
    "print(MATRIX.shape) # print the size of the tensor\n",
    "print(MATRIX[2:]) # print the first element of the tensor \n",
    "print(MATRIX[2][1]) # print the first element of the tensor  "
   ]
  },
  {
   "cell_type": "code",
   "execution_count": 266,
   "metadata": {},
   "outputs": [
    {
     "name": "stdout",
     "output_type": "stream",
     "text": [
      "tensor([[ 10,  20,  30,  40],\n",
      "        [ 50,  60,  70,  80],\n",
      "        [ 90, 100, 110, 120]])\n",
      "2\n",
      "torch.Size([3, 4])\n",
      "tensor([ 90, 100, 110, 120])\n"
     ]
    }
   ],
   "source": [
    "MATRIX = torch.tensor([[10,20,30,40],[50,60,70,80],[90,100,110,120]])\n",
    "\n",
    "print(MATRIX) # just print the tensor\n",
    "#print(MATRIX.item()) # print the value of the tensor\n",
    "print(MATRIX.ndim) # print the number of dimensions\n",
    "print(MATRIX.size()) # print the size of the tensor\n",
    "#print(MATRIX.shape) # print the size of the tensor\n",
    "print(MATRIX[2]) # print the first element of the tensor"
   ]
  },
  {
   "cell_type": "code",
   "execution_count": 269,
   "metadata": {},
   "outputs": [
    {
     "name": "stdout",
     "output_type": "stream",
     "text": [
      "tensor([[[[1, 2, 3],\n",
      "          [3, 4, 5],\n",
      "          [6, 7, 8]]]])\n",
      "4\n",
      "torch.Size([1, 1, 3, 3])\n"
     ]
    }
   ],
   "source": [
    "TENSOR = torch.tensor([[[[1,2,3],[3,4,5],[6,7,8]]]])\n",
    "print(TENSOR) # just print the tensor\n",
    "print(TENSOR.ndim) # print the number of dimensions\n",
    "print(TENSOR.shape) # print the size of the tensor"
   ]
  },
  {
   "cell_type": "code",
   "execution_count": null,
   "metadata": {},
   "outputs": [],
   "source": [
    "TENSOR = torch.tensor([ [[[5,1,3],[5,1,3]]] ])\n",
    "print(TENSOR) # just print the tensor\n",
    "print(TENSOR.ndim) # print the number of dimensions\n",
    "print(TENSOR.shape) # print the size of the tensor\n",
    "print(TENSOR[0][0][0][2]) # print the first element of the tensor"
   ]
  },
  {
   "cell_type": "code",
   "execution_count": null,
   "metadata": {},
   "outputs": [],
   "source": [
    "TENSOR = torch.tensor([[[[[1,2],[3,4],[6,7],[6,7]]]]])\n",
    "print(TENSOR) # just print the tensor\n",
    "print(TENSOR.ndim) # print the number of dimensions\n",
    "print(TENSOR.shape) # print the size of the tensor\n",
    "print(TENSOR[0][0][0][2][0])"
   ]
  },
  {
   "cell_type": "code",
   "execution_count": null,
   "metadata": {},
   "outputs": [],
   "source": [
    "TENSOR = torch.tensor([[[1,2,3],[3,4,5],[6,7,8]]])\n",
    "#print(TENSOR) # just print the tensor\n",
    "#print(TENSOR.item()) # print the value of the tensor\n",
    "print(TENSOR.ndim) # print the number of dimensions\n",
    "print(TENSOR.shape) # print the size of the tensor\n",
    "#print(TENSOR[2]) # print the first element of the tensor"
   ]
  },
  {
   "cell_type": "markdown",
   "metadata": {},
   "source": [
    "### Tips to find the ndim & shape:\n",
    "ndim --> Just count the brackets\n",
    "shape -->consider each bracket is 1 till (just before the brackets holding another set of array values) and then count array as whole and each number count in it.\n",
    "To reterive: Consider Zeroth position each bracket, once reached the position with array of values then counts starts 0, 1, 2,\n",
    "\n",
    "Example:\n",
    "\n",
    "[[10,20]] \n",
    "\n",
    "ndim = 2\n",
    "\n",
    "shape = 1,2\n",
    "\n",
    "[[10,20,30,40],[50,60,70,80],[90,100,110,120]] \n",
    "\n",
    "ndim = 2\n",
    "\n",
    "shape = 3,4\n",
    "\n",
    "[[[[[1,2],[3,4],[6,7],[6,7]]]]]\n",
    "\n",
    "ndim = 5\n",
    "\n",
    "shape = 1,1,1,4,2\n"
   ]
  }
 ],
 "metadata": {
  "kernelspec": {
   "display_name": "py311",
   "language": "python",
   "name": "python3"
  },
  "language_info": {
   "codemirror_mode": {
    "name": "ipython",
    "version": 3
   },
   "file_extension": ".py",
   "mimetype": "text/x-python",
   "name": "python",
   "nbconvert_exporter": "python",
   "pygments_lexer": "ipython3",
   "version": "3.11.8"
  }
 },
 "nbformat": 4,
 "nbformat_minor": 2
}

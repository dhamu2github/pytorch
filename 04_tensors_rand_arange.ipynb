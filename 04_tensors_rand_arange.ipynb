{
 "cells": [
  {
   "cell_type": "markdown",
   "metadata": {},
   "source": [
    "### Random tensors\n",
    "\n",
    "Why random tensors?\n",
    "\n",
    "Random tensors are very important because the way many neural networks learn is that they start with tensors full of random numbers and then adjust those random numbers to better represent the data. https://pytorch.org/docs/stable/generated/torch.rand.html"
   ]
  },
  {
   "cell_type": "code",
   "execution_count": null,
   "metadata": {},
   "outputs": [],
   "source": [
    "import torch\n",
    "import pandas as pd\n",
    "import numpy as np\n",
    "import sklearn\n",
    "import matplotlib.pyplot as plt\n",
    "import torchinfo,torchmetrics"
   ]
  },
  {
   "cell_type": "code",
   "execution_count": 9,
   "metadata": {},
   "outputs": [
    {
     "name": "stdout",
     "output_type": "stream",
     "text": [
      "tensor([[0.9333, 0.4157],\n",
      "        [0.2819, 0.8883],\n",
      "        [0.6563, 0.4325]])\n",
      "2\n"
     ]
    }
   ],
   "source": [
    "random_tensors = torch.rand(3,2)\n",
    "print(random_tensors)\n",
    "print(random_tensors.ndim)"
   ]
  },
  {
   "cell_type": "code",
   "execution_count": null,
   "metadata": {},
   "outputs": [],
   "source": [
    "# 3 color channels, 224x224 pixels (height and width of an image)\n",
    "random_shape_size_tensor = torch.rand(size=(3, 224, 224))\n",
    "#random_shape_size_tensor.shape, random_shape_size_tensor.ndim\n",
    "#print(random_shape_size_tensor)"
   ]
  },
  {
   "cell_type": "code",
   "execution_count": null,
   "metadata": {},
   "outputs": [],
   "source": [
    "# zeros tensor\n",
    "tensor_zeros = torch.zeros(size=(3,4)) \n",
    "# element wise multiplication with zeros tensor\n",
    "random_tensors*tensor_zeros "
   ]
  },
  {
   "cell_type": "code",
   "execution_count": null,
   "metadata": {},
   "outputs": [],
   "source": [
    "# ones tensor\n",
    "tensor_ones = torch.ones(size=(3,4))\n",
    "print(tensor_ones)"
   ]
  },
  {
   "cell_type": "markdown",
   "metadata": {},
   "source": [
    "### Creating a range of tensors and tensors-like objects\n",
    "Note: torch.range() is deprecated in PyTorch 1.6.0, use torch.arange() instead"
   ]
  },
  {
   "cell_type": "code",
   "execution_count": null,
   "metadata": {},
   "outputs": [],
   "source": [
    "tensor_one_ten = torch.arange(1,10,2) # start, end, step"
   ]
  },
  {
   "cell_type": "code",
   "execution_count": null,
   "metadata": {},
   "outputs": [],
   "source": [
    "# torch. zeros_like is used to create a tensor with zeros of the same shape as the input tensor\n",
    "tensor_zeros_like = torch.zeros_like(input = tensor_one_ten)\n",
    "\n",
    "tensor_zeros_like"
   ]
  }
 ],
 "metadata": {
  "kernelspec": {
   "display_name": "py311",
   "language": "python",
   "name": "python3"
  },
  "language_info": {
   "codemirror_mode": {
    "name": "ipython",
    "version": 3
   },
   "file_extension": ".py",
   "mimetype": "text/x-python",
   "name": "python",
   "nbconvert_exporter": "python",
   "pygments_lexer": "ipython3",
   "version": "3.11.8"
  }
 },
 "nbformat": 4,
 "nbformat_minor": 2
}
